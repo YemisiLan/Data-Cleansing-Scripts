{
    "metadata": {
        "kernelspec": {
            "name": "SQL",
            "display_name": "SQL",
            "language": "sql"
        },
        "language_info": {
            "name": "sql",
            "version": ""
        }
    },
    "nbformat_minor": 2,
    "nbformat": 4,
    "cells": [
        {
            "cell_type": "markdown",
            "source": [
                "     =============================================\n",
                "         Author: Yemisi Adeoluwa\n",
                "         Create date: 12/06/2018\n",
                "         Description: Store Procedure for Service Agreement orders to be closed\n",
                " ============================================="
            ],
            "metadata": {
                "azdata_cell_guid": "52bed8e2-b567-49bb-8725-989d074142bc"
            }
        },
        {
            "cell_type": "code",
            "source": [
                "\r\n",
                "SET ANSI_NULLS ON\r\n",
                "\r\n",
                "GO\r\n",
                "\r\n",
                "SET QUOTED_IDENTIFIER ON\r\n",
                "\r\n",
                "GO\r\n",
                "\r\n",
                "\r\n",
                "ALTER PROCEDURE sp_ServiceAgreement_DataCleanse\r\n",
                " @companyOutlet AS int\r\n",
                "AS\r\n",
                "BEGIN\r\n",
                "\r\n",
                "SET NOCOUNT ON;   \r\n",
                " ---added to prevent extra result sets from interfering with SELECT statements.\r\n",
                "\r\n",
                "\r\n",
                "    -- Insert statements for procedure here\r\n",
                "SELECT      c.customerName\r\n",
                "           ,c.ARAccountCode\r\n",
                "\t\t   ,sa.[Description] AS ServiceAgreement_Name\r\n",
                "\t\t   ,sa.IsDeleted\r\n",
                "\t\t   ,sa.EndDate\r\n",
                "\t\t   ,co.[Description] AS Outlet\t-- needed for people to check results\r\n",
                "\t\t   ,s.[Description] AS PrimaryService\r\n",
                "\t\t   ,sa.StartDate\t \t\t \r\n",
                "FROM       dbo.S*A* AS sa LEFT JOIN\r\n",
                "           dbo.C*S*A* AS cs ON sa.S*A* = cs.S*A* LEFT OUTER JOIN  **\r\n",
                "        \r\n",
                "WHERE\t   sa.IsDeleted != 1\r\n",
                "\t\t   AND  co.companyOutletId = @companyOutlet \r\n",
                "\t\t   AND sa.ServiceAgreementId NOT IN  (SELECT\tServiceAgreementId \r\n",
                "\t\t\t\t\t\t\t\t\t\t      FROM\t    dbo.S*O*\r\n",
                "\t\t\t\t\t\t\t\t\t\t      WHERE   \tIsDeleted <>1\r\n",
                "\t\t\t\t\t\t\t\t\t\t\t\t\t    AND (ValidUntil >= getdate() OR ValidUntil IS NULL)\r\n",
                "\t\t\t\t\t\t\t\t\t\t\t\t\t\tAND ServiceAgreementId IS NOT NULL)\r\n",
                "\r\n",
                "END\r\n",
                "\r\n",
                "GO\r\n",
                "\r\n",
                "\r\n",
                ""
            ],
            "metadata": {
                "azdata_cell_guid": "b5c00950-0d46-4b51-a87d-40142e618437"
            },
            "outputs": [],
            "execution_count": null
        }
    ]
}