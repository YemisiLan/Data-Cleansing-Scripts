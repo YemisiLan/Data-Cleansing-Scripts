{
    "metadata": {
        "kernelspec": {
            "name": "SQL",
            "display_name": "SQL",
            "language": "sql"
        },
        "language_info": {
            "name": "sql",
            "version": ""
        }
    },
    "nbformat_minor": 2,
    "nbformat": 4,
    "cells": [
        {
            "cell_type": "markdown",
            "source": [
                "\t\t\t===============================================\r\n",
                "\t\t\t\t   SCRIPT OF SITEORDERS STORE PROCEDURE\r\n",
                "\t\t\t\t   YEMISI ADEOLUWA - 13/06/2018\r\n",
                "\t\t\t==============================================="
            ],
            "metadata": {
                "azdata_cell_guid": "67a873b4-3e22-4029-9923-48eed535187d"
            }
        },
        {
            "cell_type": "markdown",
            "source": [
                "       Listed Opened Site Orders filtering by the Maximun ChargeDate"
            ],
            "metadata": {
                "azdata_cell_guid": "7379fb1f-fe2c-401e-81b7-f56f18ae3386"
            }
        },
        {
            "cell_type": "code",
            "source": [
                "ALTER PROCEDURE sp_OpenedSiteOrders\n",
                " @companyOutlet AS int\n",
                "AS\n",
                "BEGIN\n",
                "\t-- SET NOCOUNT ON added to prevent extra result sets from interfering with SELECT statements.\n",
                "SET NOCOUNT ON;\n",
                "    -- Insert statements for procedure here\n",
                "\n",
                "DECLARE\t@TODAY DATETIME = GETDATE()\n",
                "DECLARE @ProcessFromDate DATETIME = '2018-04-01'\n",
                "DECLARE @chargeDate DATETIME = '2017-06-01'\n",
                "\n",
                "SELECT \t\t  so.SiteOrderId\n",
                "\t\t\t ,cs.SiteName\n",
                "\t\t\t ,so.OrderNo\n",
                "\t\t\t ,co.[Description] \n",
                "\t\t\t ,s.[Description] \n",
                "\t\t\t ,MAX(ch.ChargeDateTime) \n",
                "\t\t\t ,c.Customer*\t\t\t \n",
                "\t\t\t ,c.ASN**Code\n",
                "\t\t\t ,so.PN*\n",
                "\n",
                "FROM\t\t ED* AS so LEFT OUTER JOIN\n",
                "             DD*.dbo.Charge AS ch ON so.SI*d = ch.SI*d \n",
                "\n",
                "HAVING BY\tS*\t\t\t AND (so.Va*til IS \n",
                "80903,\n",
                "70838,\n",
                "74285,\n",
                "21478,\n",
                ")\n",
                "\tGROUP BY so.SiteOrderId\n",
                "\t\t\t ,cs.SiteName\n",
                "\t\t\t ,so.OrderNo\n",
                "\t\t\t ,c.CustomerName\n",
                "\t\t\t ,c.ARAccountCode \n",
                "\t\t\t ,co.[Description]\n",
                "\t\t\t ,s.[Description]\n",
                "\t\t\t ,so.Pso.S*Id\n",
                "\t\t\t ,cs.SN**\n",
                "\t\t\t ,so.ON*\n",
                "\t\t\t ,co.D*\n",
                "\t\t\t ,s.DD*\n",
                "\t\t\t ,c.C*\n",
                "\t\t\t ,c.Ac*\n",
                "\t\t\t ,so.PF*outputs"
            ],
            "metadata": {
                "azdata_cell_guid": "70f238e6-9f24-4514-8910-c607a40c93ef"
            },
            "outputs": [],
            "execution_count": null
        }
    ]
}